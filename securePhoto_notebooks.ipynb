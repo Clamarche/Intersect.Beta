{
  "nbformat": 4,
  "nbformat_minor": 0,
  "metadata": {
    "colab": {
      "name": "securePhoto_notebooks.ipynb",
      "version": "0.3.2",
      "provenance": [],
      "toc_visible": true
    },
    "kernelspec": {
      "name": "python3",
      "display_name": "Python 3"
    }
  },
  "cells": [
    {
      "cell_type": "markdown",
      "metadata": {
        "id": "Ib3RGHwQZEv5",
        "colab_type": "text"
      },
      "source": [
        "# Welcome to the notebook of securePhoto.\n",
        "## This python3 notebook helps to construct the project in homogenized interface\n",
        "\n",
        "* No Need to configure anything\n",
        "* Ready to test system\n",
        "* Possibility to comment the code and add more example\n",
        "\n",
        "NOTE :\n",
        "\n",
        "_A command beginning with \"!\" enable shell command._\n",
        "\n"
      ]
    },
    {
      "cell_type": "markdown",
      "metadata": {
        "id": "qqgDLv2wfMdu",
        "colab_type": "text"
      },
      "source": [
        "Importing all the necessary package."
      ]
    },
    {
      "cell_type": "code",
      "metadata": {
        "id": "na36tl-Eenca",
        "colab_type": "code",
        "outputId": "56e310a5-f322-4342-de37-ad11bea0f450",
        "colab": {
          "base_uri": "https://localhost:8080/",
          "height": 222
        }
      },
      "source": [
        "!pip install pillow\n",
        "!pip install numpy\n",
        "!pip install matplotlib"
      ],
      "execution_count": 17,
      "outputs": [
        {
          "output_type": "stream",
          "text": [
            "Requirement already satisfied: pillow in /usr/local/lib/python3.6/dist-packages (4.3.0)\n",
            "Requirement already satisfied: olefile in /usr/local/lib/python3.6/dist-packages (from pillow) (0.46)\n",
            "Requirement already satisfied: numpy in /usr/local/lib/python3.6/dist-packages (1.16.4)\n",
            "Requirement already satisfied: matplotlib in /usr/local/lib/python3.6/dist-packages (3.0.3)\n",
            "Requirement already satisfied: python-dateutil>=2.1 in /usr/local/lib/python3.6/dist-packages (from matplotlib) (2.5.3)\n",
            "Requirement already satisfied: pyparsing!=2.0.4,!=2.1.2,!=2.1.6,>=2.0.1 in /usr/local/lib/python3.6/dist-packages (from matplotlib) (2.4.0)\n",
            "Requirement already satisfied: numpy>=1.10.0 in /usr/local/lib/python3.6/dist-packages (from matplotlib) (1.16.4)\n",
            "Requirement already satisfied: cycler>=0.10 in /usr/local/lib/python3.6/dist-packages (from matplotlib) (0.10.0)\n",
            "Requirement already satisfied: kiwisolver>=1.0.1 in /usr/local/lib/python3.6/dist-packages (from matplotlib) (1.1.0)\n",
            "Requirement already satisfied: six>=1.5 in /usr/local/lib/python3.6/dist-packages (from python-dateutil>=2.1->matplotlib) (1.12.0)\n",
            "Requirement already satisfied: setuptools in /usr/local/lib/python3.6/dist-packages (from kiwisolver>=1.0.1->matplotlib) (41.0.1)\n"
          ],
          "name": "stdout"
        }
      ]
    },
    {
      "cell_type": "markdown",
      "metadata": {
        "id": "znuK4_mWb1uP",
        "colab_type": "text"
      },
      "source": [
        "Make sure that every package is installed in the notebook."
      ]
    },
    {
      "cell_type": "code",
      "metadata": {
        "id": "hSOitWLGe_QG",
        "colab_type": "code",
        "colab": {}
      },
      "source": [
        "# To read picture\n",
        "import PIL as pil\n",
        "import matplotlib.image as img\n",
        "# To create array\n",
        "import numpy as np\n",
        "# To create picture \n",
        "import matplotlib.pyplot as plt\n",
        "# To display inside the notebook\n",
        "from IPython.display import Image, display"
      ],
      "execution_count": 0,
      "outputs": []
    },
    {
      "cell_type": "markdown",
      "metadata": {
        "id": "PXV0Nodkief4",
        "colab_type": "text"
      },
      "source": [
        "Creating the image to test the principle"
      ]
    },
    {
      "cell_type": "code",
      "metadata": {
        "id": "4lZ79WW3g1Sn",
        "colab_type": "code",
        "colab": {
          "base_uri": "https://localhost:8080/",
          "height": 1000
        },
        "outputId": "f5522058-b455-41dc-cf18-1d57d5b54b4b"
      },
      "source": [
        "# Create the test picture\n",
        "# Content inside /content/ repository\n",
        "color_palette = ['white', 'black', 'red', 'green', 'blue']\n",
        "images = {}\n",
        "for color in color_palette:\n",
        "  images[color] = pil.Image.new('RGB', (256, 256), color=color)\n",
        "  images[color].save(color+'256.png')\n",
        "\n",
        "# Display the test picture\n",
        "for image in images:\n",
        "  display(Image(\"%s256.png\"%(image)))\n",
        "  display(\"%s (256x256)\"%(image))"
      ],
      "execution_count": 20,
      "outputs": [
        {
          "output_type": "display_data",
          "data": {
            "image/png": "[encoded data removed]",
            "text/plain": [
              "<IPython.core.display.Image object>"
            ]
          },
          "metadata": {
            "tags": []
          }
        },
        {
          "output_type": "display_data",
          "data": {
            "text/plain": [
              "'white (256x256)'"
            ]
          },
          "metadata": {
            "tags": []
          }
        },
        {
          "output_type": "display_data",
          "data": {
            "image/png": "[encoded data removed]",
            "text/plain": [
              "<IPython.core.display.Image object>"
            ]
          },
          "metadata": {
            "tags": []
          }
        },
        {
          "output_type": "display_data",
          "data": {
            "text/plain": [
              "'black (256x256)'"
            ]
          },
          "metadata": {
            "tags": []
          }
        },
        {
          "output_type": "display_data",
          "data": {
            "image/png": "[encoded data removed]",
            "text/plain": [
              "<IPython.core.display.Image object>"
            ]
          },
          "metadata": {
            "tags": []
          }
        },
        {
          "output_type": "display_data",
          "data": {
            "text/plain": [
              "'red (256x256)'"
            ]
          },
          "metadata": {
            "tags": []
          }
        },
        {
          "output_type": "display_data",
          "data": {
            "image/png": "[encoded data removed]",
            "text/plain": [
              "<IPython.core.display.Image object>"
            ]
          },
          "metadata": {
            "tags": []
          }
        },
        {
          "output_type": "display_data",
          "data": {
            "text/plain": [
              "'green (256x256)'"
            ]
          },
          "metadata": {
            "tags": []
          }
        },
        {
          "output_type": "display_data",
          "data": {
            "image/png": "[encoded data removed]",
            "text/plain": [
              "<IPython.core.display.Image object>"
            ]
          },
          "metadata": {
            "tags": []
          }
        },
        {
          "output_type": "display_data",
          "data": {
            "text/plain": [
              "'blue (256x256)'"
            ]
          },
          "metadata": {
            "tags": []
          }
        }
      ]
    },
    {
      "cell_type": "markdown",
      "metadata": {
        "id": "kFEtNDg_kTLJ",
        "colab_type": "text"
      },
      "source": [
        "Checking the pixel of the images."
      ]
    },
    {
      "cell_type": "code",
      "metadata": {
        "id": "9Ke5dba-zJ41",
        "colab_type": "code",
        "colab": {
          "base_uri": "https://localhost:8080/",
          "height": 185
        },
        "outputId": "7fd3debc-622d-4d7d-c907-3a11b76099d9"
      },
      "source": [
        "for color in color_palette:\n",
        "  print(color)\n",
        "  pixels = img.imread(color+'256.png')\n",
        "\n",
        "  for i in range(1):\n",
        "    print(pixels[0, i])"
      ],
      "execution_count": 21,
      "outputs": [
        {
          "output_type": "stream",
          "text": [
            "white\n",
            "[1. 1. 1.]\n",
            "black\n",
            "[0. 0. 0.]\n",
            "red\n",
            "[1. 0. 0.]\n",
            "green\n",
            "[0.        0.5019608 0.       ]\n",
            "blue\n",
            "[0. 0. 1.]\n"
          ],
          "name": "stdout"
        }
      ]
    },
    {
      "cell_type": "markdown",
      "metadata": {
        "id": "Z5AcuONX08il",
        "colab_type": "text"
      },
      "source": [
        "Checking how to modify the value of a picture by creating a true green."
      ]
    },
    {
      "cell_type": "code",
      "metadata": {
        "id": "lPMTA06Q0uq2",
        "colab_type": "code",
        "colab": {}
      },
      "source": [
        "pixels = img.imread('green256.png')\n",
        "for i in range(256):\n",
        "  for j in range(256):\n",
        "    pixels[i, j][1] = 1\n",
        "plt.imshow(pixels)  "
      ],
      "execution_count": 0,
      "outputs": []
    },
    {
      "cell_type": "markdown",
      "metadata": {
        "id": "VxpAdBPn8jR5",
        "colab_type": "text"
      },
      "source": [
        "Try to modify the value by adding the blue with the white"
      ]
    },
    {
      "cell_type": "code",
      "metadata": {
        "id": "dJqk9IBL8iwT",
        "colab_type": "code",
        "colab": {}
      },
      "source": [
        "blue_img = img.imread('blue256.png')\n",
        "white_img = img.imread('white256.png')\n",
        "\n",
        "pixels = np.add(blue_img, np.mod(white_img, 0.78))\n",
        "for i in range(5):\n",
        "  print(pixels[0,i])\n",
        "\n",
        "plt.imshow(pixels)"
      ],
      "execution_count": 0,
      "outputs": []
    },
    {
      "cell_type": "markdown",
      "metadata": {
        "id": "S_BjazunFNxz",
        "colab_type": "text"
      },
      "source": [
        "Creating a function that get the value"
      ]
    },
    {
      "cell_type": "code",
      "metadata": {
        "id": "6ikcSmYuE3ig",
        "colab_type": "code",
        "colab": {}
      },
      "source": [
        "def add():\n",
        "  \n",
        "  return "
      ],
      "execution_count": 0,
      "outputs": []
    }
  ]
}