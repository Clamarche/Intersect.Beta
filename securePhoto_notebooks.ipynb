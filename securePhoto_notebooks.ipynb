{
  "nbformat": 4,
  "nbformat_minor": 0,
  "metadata": {
    "colab": {
      "name": "securePhoto_notebooks.ipynb",
      "version": "0.3.2",
      "provenance": [],
      "include_colab_link": true
    },
    "kernelspec": {
      "name": "python3",
      "display_name": "Python 3"
    }
  },
  "cells": [
    {
      "cell_type": "markdown",
      "metadata": {
        "id": "view-in-github",
        "colab_type": "text"
      },
      "source": [
        "<a href=\"https://colab.research.google.com/github/Clamarche/SecurePhoto/blob/master/securePhoto_notebooks.ipynb\" target=\"_parent\"><img src=\"https://colab.research.google.com/assets/colab-badge.svg\" alt=\"Open In Colab\"/></a>"
      ]
    },
    {
      "cell_type": "markdown",
      "metadata": {
        "id": "Ib3RGHwQZEv5",
        "colab_type": "text"
      },
      "source": [
        "# Welcome to the notebook of securePhoto.\n",
        "## This python3 notebook helps to construct the project in homogenized interface\n",
        "\n",
        "* No Need to configure anything\n",
        "* Ready to test system\n",
        "* Possibility to comment the code and add more example\n",
        "\n",
        "NOTE :\n",
        "\n",
        "_A command beginning with \"!\" enable shell command._\n",
        "\n"
      ]
    },
    {
      "cell_type": "code",
      "metadata": {
        "id": "EbKNHKfza0We",
        "colab_type": "code",
        "colab": {}
      },
      "source": [
        "# example of python command\n",
        "print(\"hello world!\")\n",
        "# example of shell command\n",
        "!ls -la /"
      ],
      "execution_count": 0,
      "outputs": []
    },
    {
      "cell_type": "markdown",
      "metadata": {
        "id": "znuK4_mWb1uP",
        "colab_type": "text"
      },
      "source": [
        "Importing all the necessary package"
      ]
    }
  ]
}