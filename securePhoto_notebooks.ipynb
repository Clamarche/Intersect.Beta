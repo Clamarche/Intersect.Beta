{
  "nbformat": 4,
  "nbformat_minor": 0,
  "metadata": {
    "colab": {
      "name": "securePhoto_notebooks.ipynb",
      "version": "0.3.2",
      "provenance": [],
      "toc_visible": true,
      "include_colab_link": true
    },
    "kernelspec": {
      "name": "python3",
      "display_name": "Python 3"
    }
  },
  "cells": [
    {
      "cell_type": "markdown",
      "metadata": {
        "id": "view-in-github",
        "colab_type": "text"
      },
      "source": [
        "<a href=\"https://colab.research.google.com/github/Clamarche/Intersect.Beta/blob/develop/securePhoto_notebooks.ipynb\" target=\"_parent\"><img src=\"https://colab.research.google.com/assets/colab-badge.svg\" alt=\"Open In Colab\"/></a>"
      ]
    },
    {
      "cell_type": "markdown",
      "metadata": {
        "id": "Ib3RGHwQZEv5",
        "colab_type": "text"
      },
      "source": [
        "# Welcome to the notebook of securePhoto.\n",
        "## This python3 notebook helps to construct the project in homogenized interface\n",
        "\n",
        "* No Need to configure anything\n",
        "* Ready to test system\n",
        "* Possibility to comment the code and add more example\n",
        "\n",
        "NOTE :\n",
        "\n",
        "_A command beginning with \"!\" enable shell command._\n",
        "\n"
      ]
    },
    {
      "cell_type": "markdown",
      "metadata": {
        "id": "qqgDLv2wfMdu",
        "colab_type": "text"
      },
      "source": [
        "Importing all the necessary package."
      ]
    },
    {
      "cell_type": "code",
      "metadata": {
        "id": "na36tl-Eenca",
        "colab_type": "code",
        "colab": {
          "base_uri": "https://localhost:8080/",
          "height": 51
        },
        "outputId": "6a8b57b7-552b-4f89-85d5-cab7ac5195db"
      },
      "source": [
        "!pip install pillow"
      ],
      "execution_count": 11,
      "outputs": [
        {
          "output_type": "stream",
          "text": [
            "Requirement already satisfied: pillow in /usr/local/lib/python3.6/dist-packages (4.3.0)\n",
            "Requirement already satisfied: olefile in /usr/local/lib/python3.6/dist-packages (from pillow) (0.46)\n"
          ],
          "name": "stdout"
        }
      ]
    },
    {
      "cell_type": "markdown",
      "metadata": {
        "id": "znuK4_mWb1uP",
        "colab_type": "text"
      },
      "source": [
        "Make sure that every package is installed in the notebook."
      ]
    },
    {
      "cell_type": "code",
      "metadata": {
        "id": "hSOitWLGe_QG",
        "colab_type": "code",
        "colab": {}
      },
      "source": [
        "# To create picture\n",
        "import PIL as pil\n",
        "# To display inside the notebook\n",
        "from IPython.display import Image, display"
      ],
      "execution_count": 0,
      "outputs": []
    },
    {
      "cell_type": "markdown",
      "metadata": {
        "id": "PXV0Nodkief4",
        "colab_type": "text"
      },
      "source": [
        "Creating the image to test the principle"
      ]
    },
    {
      "cell_type": "code",
      "metadata": {
        "id": "4lZ79WW3g1Sn",
        "colab_type": "code",
        "colab": {}
      },
      "source": [
        "# Create the test picture\n",
        "# Content inside /content/ repository\n",
        "images = {}\n",
        "images['white'] = pil.Image.new('RGB', (256, 256), color = 'white')\n",
        "images['white'].save('white256.png')\n",
        "images['black'] = pil.Image.new('RGB', (256, 256), color = 'black')\n",
        "images['black'].save('black256.png')\n",
        "images['red'] = pil.Image.new('RGB', (256, 256), color = 'red')\n",
        "images['red'].save('red256.png')\n",
        "images['green'] = pil.Image.new('RGB', (256, 256), color = 'green')\n",
        "images['green'].save('green256.png')\n",
        "images['blue'] = pil.Image.new('RGB', (256, 256), color = 'blue')\n",
        "images['blue'].save('blue256.png')\n",
        "\n",
        "# Display the test picture\n",
        "for image in images:\n",
        "  display(Image(\"%s256.png\"%(image)))\n",
        "  display(\"%s (256x256)\"%(image))"
      ],
      "execution_count": 0,
      "outputs": []
    },
    {
      "cell_type": "markdown",
      "metadata": {
        "id": "kFEtNDg_kTLJ",
        "colab_type": "text"
      },
      "source": [
        ""
      ]
    }
  ]
}